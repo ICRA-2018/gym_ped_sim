{
 "cells": [
  {
   "cell_type": "markdown",
   "metadata": {},
   "source": [
    "# A ros gazebo plugin for pedestrians\n",
    "\n",
    "This is a ros pkg for gazebo [actor](http://gazebosim.org/tutorials?tut=actor&cat=build_robot) plugin.\n",
    "\n",
    "### Dependencies\n",
    "* Ubuntu 16.04\n",
    "* ROS-kinetic\n",
    "* Gazebo 8 (with actor suport)\n",
    "* python-lxml\n",
    "* turtlebot3\n",
    "* turtlebot3_msgs\n",
    "* turtlebot3_simulations\n",
    "\n",
    "### Build\n",
    "\n",
    "1. Add the repositories of [Gazebo 8](http://gazebosim.org/tutorials?tut=install_ubuntu) and [ROS kinetic](http://wiki.ros.org/indigo/Installation/Ubuntu)    \n",
    "\n",
    "2. Install Gazebo 8, Ros kinetic in buntu 16.04 and other dependencies."
   ]
  },
  {
   "cell_type": "code",
   "execution_count": null,
   "metadata": {},
   "outputs": [],
   "source": [
    "sudo apt-get install ros-kinetic-desktop-full\n",
    "sudo apt-get install ros-kinetic-gazebo8-ros-pkgs"
   ]
  },
  {
   "cell_type": "markdown",
   "metadata": {},
   "source": [
    "3. Build packages"
   ]
  },
  {
   "cell_type": "code",
   "execution_count": null,
   "metadata": {},
   "outputs": [],
   "source": [
    "cd /path/to/workspace/src\n",
    "git clone git@github.com:onlytailei/gym_ped_sim.git\n",
    "catkin build"
   ]
  },
  {
   "cell_type": "markdown",
   "metadata": {},
   "source": [
    "![rviz](./rviz_view.png)\n",
    "![gazebo](./gazebo_view.png)\n",
    "\n",
    "### Example"
   ]
  },
  {
   "cell_type": "code",
   "execution_count": null,
   "metadata": {},
   "outputs": [],
   "source": [
    "roslaunch turtlebot3_social default.launch"
   ]
  },
  {
   "cell_type": "markdown",
   "metadata": {},
   "source": [
    "### Node Details\n",
    "- **actor_plugin**    \n",
    "  Build based on a [Gazebo official example](http://gazebosim.org/tutorials?cat=guided_i&tut=guided_i6). This node broadcasts the tf of every actor. [Social force model](http://vision.cse.psu.edu/courses/Tracking/vlpr12/HelbingSocialForceModel95.pdf) is applied in every actor to interactive with each other.\n",
    "\n",
    "- **actor_services**    \n",
    "  The python files help to create several gazebo sdf files quickly. There is a rviz file for visualization.\n",
    "\n",
    "- **turtlebo3_social**    \n",
    "  In our socially compliant pedestrian simulator, we collect data by mounting a depth sensor onto one of the pedestrians, to the height matching that of real-world setups. Then, the social force model, as described in the paper, is used to label each incoming depth\n",
    "image with their corresponding social force.\n",
    "\n",
    "- **data_collection**    \n",
    "  To save the related dataset.\n",
    "\n",
    "### Dataset\n",
    "The collected [pedestrian navigation dataset](https://ram-lab.com/file/tai_icra_2018_dataset.zip) contains:\n",
    "- depth image\n",
    "- rgb image\n",
    "- target \n",
    "- social force classification\n",
    "- social force\n",
    "- sum force\n",
    "\n",
    "## Interactive interface\n",
    "Please reference [gym_style_gazebo](https://github.com/onlytailei/gym_style_gazebo)\n",
    "\n",
    "\n",
    "------\n",
    "\n",
    "This is the reference implementation of the plugins and for the paper **Socially-compliant Navigation through Raw Depth Inputs with Generative Adversarial Imitation Learning**. \n",
    "If it helps your research, please cite:"
   ]
  },
  {
   "cell_type": "code",
   "execution_count": null,
   "metadata": {},
   "outputs": [],
   "source": [
    "@inproceedings{tai2018social,\n",
    "    author={L. Tai and J. Zhang and M. Liu and W. Burgard},\n",
    "    booktitle={2018 IEEE International Conference on Robotics and Automation (ICRA)}, \n",
    "    title={Socially Compliant Navigation Through Raw Depth Inputs with Generative Adversarial Imitation Learning}, \n",
    "    year={2018}, \n",
    "    pages={1111-1117}, \n",
    "    doi={10.1109/ICRA.2018.8460968}, \n",
    "    ISSN={2577-087X}, \n",
    "    month={May},\n",
    "}"
   ]
  },
  {
   "cell_type": "markdown",
   "metadata": {},
   "source": [
    "## References\n",
    "[srl-freiburg/pedsim_ros](https://github.com/srl-freiburg/pedsim_ros)    \n",
    "[social force model](http://vision.cse.psu.edu/courses/Tracking/vlpr12/HelbingSocialForceModel95.pdf)"
   ]
  }
 ],
 "metadata": {},
 "nbformat": 4,
 "nbformat_minor": 2
}
